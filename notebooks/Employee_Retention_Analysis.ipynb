{
 "cells": [
  {
   "cell_type": "markdown",
   "id": "38f7e26f",
   "metadata": {},
   "source": [
    "\n",
    "# Employee Retention & Performance Analysis\n",
    "This notebook explores and analyzes synthetic HR data. \n",
    "We'll clean the data using reusable scripts, engineer tenure features, visualize trends, and prepare it for machine learning.\n"
   ]
  },
  {
   "cell_type": "code",
   "execution_count": null,
   "id": "8f0160d1",
   "metadata": {},
   "outputs": [],
   "source": [
    "\n",
    "import pandas as pd\n",
    "import numpy as np\n",
    "import matplotlib.pyplot as plt\n",
    "import seaborn as sns\n",
    "import sys\n",
    "sys.path.append('../scripts')  # Adjust to your structure\n",
    "\n",
    "from cleaning_utils import clean_numeric_column, standardize_text_column, filter_valid_emails, engineer_tenure\n",
    "\n",
    "pd.set_option('display.max_columns', None)\n",
    "sns.set(style=\"whitegrid\")\n"
   ]
  },
  {
   "cell_type": "code",
   "execution_count": null,
   "id": "e844cfcd",
   "metadata": {},
   "outputs": [],
   "source": [
    "\n",
    "df = pd.read_csv('../data/employees.csv')\n",
    "print(\"Initial dataset shape:\", df.shape)\n",
    "df.head()\n"
   ]
  },
  {
   "cell_type": "code",
   "execution_count": null,
   "id": "afed51b9",
   "metadata": {},
   "outputs": [],
   "source": [
    "\n",
    "df = clean_numeric_column(df, 'Age')\n",
    "df = clean_numeric_column(df, 'Salary')\n",
    "df = standardize_text_column(df, 'Department')\n",
    "df = standardize_text_column(df, 'Performance_Score', fillna_value='Not Rated')\n",
    "df = filter_valid_emails(df)\n",
    "df = engineer_tenure(df)\n",
    "print(\"Cleaned dataset shape:\", df.shape)\n",
    "df.head()\n"
   ]
  },
  {
   "cell_type": "code",
   "execution_count": null,
   "id": "f8dfe399",
   "metadata": {},
   "outputs": [],
   "source": [
    "\n",
    "plt.figure(figsize=(10,5))\n",
    "sns.histplot(df['Age'], bins=30, kde=True)\n",
    "plt.title('Age Distribution')\n",
    "plt.savefig('../outputs/age_distribution.png')\n",
    "plt.show()\n",
    "\n",
    "plt.figure(figsize=(10,5))\n",
    "sns.histplot(df['Salary'], bins=30, kde=True, color='orange')\n",
    "plt.title('Salary Distribution')\n",
    "plt.savefig('../outputs/salary_distribution.png')\n",
    "plt.show()\n",
    "\n",
    "plt.figure(figsize=(10,6))\n",
    "sns.boxplot(x='Department', y='Salary', data=df)\n",
    "plt.title('Salary Distribution by Department')\n",
    "plt.xticks(rotation=45)\n",
    "plt.savefig('../outputs/salary_by_department.png')\n",
    "plt.show()\n",
    "\n",
    "plt.figure(figsize=(10,6))\n",
    "sns.barplot(x='Department', y='Tenure_Years', data=df)\n",
    "plt.title('Average Tenure by Department')\n",
    "plt.xticks(rotation=45)\n",
    "plt.savefig('../outputs/tenure_by_department.png')\n",
    "plt.show()\n",
    "\n",
    "df['Join_Year'] = df['Join_Date'].dt.year\n",
    "plt.figure(figsize=(10,5))\n",
    "df['Join_Year'].value_counts().sort_index().plot(kind='bar')\n",
    "plt.title('Hiring Trends by Year')\n",
    "plt.ylabel('Number of Hires')\n",
    "plt.savefig('../outputs/hiring_trends.png')\n",
    "plt.show()\n",
    "\n",
    "plt.figure(figsize=(6,4))\n",
    "sns.heatmap(df[['Age', 'Salary', 'Tenure_Years']].corr(), annot=True, cmap='coolwarm')\n",
    "plt.title('Correlation Heatmap')\n",
    "plt.savefig('../outputs/correlation_heatmap.png')\n",
    "plt.show()\n"
   ]
  },
  {
   "cell_type": "code",
   "execution_count": null,
   "id": "820a7947",
   "metadata": {},
   "outputs": [],
   "source": [
    "\n",
    "df.to_csv('../outputs/cleaned_employees.csv', index=False)\n",
    "print(\"Cleaned data saved to ../outputs/cleaned_employees.csv\")\n"
   ]
  }
 ],
 "metadata": {},
 "nbformat": 4,
 "nbformat_minor": 5
}
