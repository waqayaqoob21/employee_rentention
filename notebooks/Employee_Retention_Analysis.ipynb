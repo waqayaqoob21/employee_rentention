{
 "cells": [
  {
   "cell_type": "markdown",
   "id": "c5259673",
   "metadata": {},
   "source": [
    "\n",
    "# Employee Retention & Performance Analysis\n",
    "This notebook explores and analyzes synthetic HR data. \n",
    "We'll clean the data, engineer tenure features, visualize trends, and prepare it for machine learning insights.\n"
   ]
  },
  {
   "cell_type": "code",
   "execution_count": null,
   "id": "544166cb",
   "metadata": {},
   "outputs": [],
   "source": [
    "\n",
    "import pandas as pd\n",
    "import numpy as np\n",
    "import matplotlib.pyplot as plt\n",
    "import seaborn as sns\n",
    "from datetime import datetime\n",
    "from sklearn.preprocessing import LabelEncoder\n",
    "\n",
    "pd.set_option('display.max_columns', None)\n",
    "sns.set(style=\"whitegrid\")\n"
   ]
  },
  {
   "cell_type": "code",
   "execution_count": null,
   "id": "c0a45612",
   "metadata": {},
   "outputs": [],
   "source": [
    "\n",
    "df = pd.read_csv('employees.csv')\n",
    "print(\"Initial dataset shape:\", df.shape)\n",
    "df.head()\n"
   ]
  },
  {
   "cell_type": "code",
   "execution_count": null,
   "id": "5e7f4f57",
   "metadata": {},
   "outputs": [],
   "source": [
    "\n",
    "df.info()\n",
    "df.describe(include='all')\n"
   ]
  },
  {
   "cell_type": "code",
   "execution_count": null,
   "id": "413a91cc",
   "metadata": {},
   "outputs": [],
   "source": [
    "\n",
    "df = df.replace('', np.nan)\n",
    "df.isnull().sum()\n"
   ]
  },
  {
   "cell_type": "code",
   "execution_count": null,
   "id": "1b1c6c2e",
   "metadata": {},
   "outputs": [],
   "source": [
    "\n",
    "df['Age'] = pd.to_numeric(df['Age'], errors='coerce')\n",
    "df['Salary'] = pd.to_numeric(df['Salary'], errors='coerce')\n",
    "df['Age'] = df['Age'].fillna(df['Age'].median())\n",
    "df['Salary'] = df['Salary'].fillna(df['Salary'].median())\n"
   ]
  },
  {
   "cell_type": "code",
   "execution_count": null,
   "id": "a39322fc",
   "metadata": {},
   "outputs": [],
   "source": [
    "\n",
    "df['Department'] = df['Department'].str.title()\n",
    "df['Department'] = df['Department'].fillna('Unknown')\n",
    "df['Performance_Score'] = df['Performance_Score'].fillna('Not Rated')\n"
   ]
  },
  {
   "cell_type": "code",
   "execution_count": null,
   "id": "396a3510",
   "metadata": {},
   "outputs": [],
   "source": [
    "\n",
    "df['Join_Date'] = pd.to_datetime(df['Join_Date'], errors='coerce', dayfirst=True)\n",
    "df['Leave_Date'] = pd.to_datetime(df['Leave_Date'], errors='coerce', dayfirst=True)\n",
    "df['Leave_Date'] = df['Leave_Date'].fillna(pd.Timestamp('today'))\n",
    "df['Tenure_Days'] = (df['Leave_Date'] - df['Join_Date']).dt.days\n",
    "df['Tenure_Years'] = df['Tenure_Days'] / 365.0\n"
   ]
  },
  {
   "cell_type": "code",
   "execution_count": null,
   "id": "38825f7c",
   "metadata": {},
   "outputs": [],
   "source": [
    "\n",
    "df['Email_Valid'] = df['Email'].apply(lambda x: isinstance(x, str) and '@' in x and '.' in x)\n",
    "df = df[df['Email_Valid']].drop('Email_Valid', axis=1)\n"
   ]
  },
  {
   "cell_type": "code",
   "execution_count": null,
   "id": "af6b8af0",
   "metadata": {},
   "outputs": [],
   "source": [
    "\n",
    "plt.figure(figsize=(10,5))\n",
    "sns.histplot(df['Age'], bins=30, kde=True)\n",
    "plt.title('Age Distribution')\n",
    "plt.show()\n",
    "\n",
    "plt.figure(figsize=(10,5))\n",
    "sns.histplot(df['Salary'], bins=30, kde=True, color='orange')\n",
    "plt.title('Salary Distribution')\n",
    "plt.show()\n"
   ]
  },
  {
   "cell_type": "code",
   "execution_count": null,
   "id": "017d09e4",
   "metadata": {},
   "outputs": [],
   "source": [
    "\n",
    "plt.figure(figsize=(10,6))\n",
    "sns.boxplot(x='Department', y='Salary', data=df)\n",
    "plt.title('Salary Distribution by Department')\n",
    "plt.xticks(rotation=45)\n",
    "plt.show()\n"
   ]
  },
  {
   "cell_type": "code",
   "execution_count": null,
   "id": "5edf6324",
   "metadata": {},
   "outputs": [],
   "source": [
    "\n",
    "plt.figure(figsize=(10,6))\n",
    "sns.barplot(x='Department', y='Tenure_Years', data=df)\n",
    "plt.title('Average Tenure by Department')\n",
    "plt.xticks(rotation=45)\n",
    "plt.show()\n"
   ]
  },
  {
   "cell_type": "code",
   "execution_count": null,
   "id": "18470482",
   "metadata": {},
   "outputs": [],
   "source": [
    "\n",
    "df['Join_Year'] = df['Join_Date'].dt.year\n",
    "plt.figure(figsize=(10,5))\n",
    "df['Join_Year'].value_counts().sort_index().plot(kind='bar')\n",
    "plt.title('Hiring Trends by Year')\n",
    "plt.ylabel('Number of Hires')\n",
    "plt.show()\n"
   ]
  },
  {
   "cell_type": "code",
   "execution_count": null,
   "id": "0c08b51b",
   "metadata": {},
   "outputs": [],
   "source": [
    "\n",
    "plt.figure(figsize=(6,4))\n",
    "sns.heatmap(df[['Age', 'Salary', 'Tenure_Years']].corr(), annot=True, cmap='coolwarm')\n",
    "plt.title('Correlation Heatmap')\n",
    "plt.show()\n"
   ]
  },
  {
   "cell_type": "code",
   "execution_count": null,
   "id": "f42b3332",
   "metadata": {},
   "outputs": [],
   "source": [
    "\n",
    "le_dept = LabelEncoder()\n",
    "le_perf = LabelEncoder()\n",
    "df['Department_Code'] = le_dept.fit_transform(df['Department'])\n",
    "df['Performance_Code'] = le_perf.fit_transform(df['Performance_Score'])\n",
    "df[['Age', 'Salary', 'Tenure_Years', 'Department_Code', 'Performance_Code']].head()\n"
   ]
  },
  {
   "cell_type": "code",
   "execution_count": null,
   "id": "12f1d75c",
   "metadata": {},
   "outputs": [],
   "source": [
    "\n",
    "df.to_csv('cleaned_employees.csv', index=False)\n",
    "print(\"Cleaned data saved to cleaned_employees.csv\")\n"
   ]
  }
 ],
 "metadata": {},
 "nbformat": 4,
 "nbformat_minor": 5
}
